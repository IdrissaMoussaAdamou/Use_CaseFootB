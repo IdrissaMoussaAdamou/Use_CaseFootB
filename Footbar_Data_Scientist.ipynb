{
 "cells": [
  {
   "cell_type": "markdown",
   "id": "2810c33c",
   "metadata": {},
   "source": [
    "# Footbar Data Scientist"
   ]
  },
  {
   "cell_type": "markdown",
   "id": "fa0aac61",
   "metadata": {},
   "source": [
    "## Pre-processing and Data analysis"
   ]
  },
  {
   "cell_type": "code",
   "execution_count": 2,
   "id": "d427f35e",
   "metadata": {},
   "outputs": [
    {
     "name": "stdout",
     "output_type": "stream",
     "text": [
      "/home/idrassa\n",
      "/home/idrassa/Téléchargements/Use_Case_Footbar\n"
     ]
    }
   ],
   "source": [
    "import pandas as pd \n",
    "import numpy as np \n",
    "from pathlib import Path\n",
    "home = Path.home()\n",
    "print(home)\n",
    "base_path = Path(home, \"Téléchargements\", \"Use_Case_Footbar\")\n",
    "print(base_path)"
   ]
  },
  {
   "cell_type": "code",
   "execution_count": 3,
   "id": "2818aaf9",
   "metadata": {},
   "outputs": [],
   "source": [
    "import os\n",
    "# Upload datasets\n",
    "\n",
    "Filepath1= str(base_path / \"match_1\")\n",
    "Filepath2= str(base_path / \"match_2\")\n",
    "\n",
    "def open_file_as_dataframe(file_path_without_extension):\n",
    "    # Try opening as JSON\n",
    "    json_path = file_path_without_extension + '.json'\n",
    "    if os.path.exists(json_path):\n",
    "        try:\n",
    "            df = pd.read_json(json_path)\n",
    "            return df\n",
    "        except pd.errors.JSONDecodeError:\n",
    "            pass  # Not a JSON file\n",
    "\n",
    "    # Try opening as CSV\n",
    "    csv_path = file_path_without_extension + '.csv'\n",
    "    if os.path.exists(csv_path):\n",
    "        try:\n",
    "            df = pd.read_csv(csv_path)\n",
    "            return df\n",
    "        except pd.errors.EmptyDataError:\n",
    "            pass  # CSV file is empty\n",
    "\n",
    "    # If neither JSON nor CSV, return None\n",
    "    return None\n",
    "\n",
    "#match1_df=pd.read_csv(str(base_path / \"match_1.csv\"))\n",
    "\n",
    "match1_df=open_file_as_dataframe(Filepath1)\n",
    "match2_df=open_file_as_dataframe(Filepath2)"
   ]
  },
  {
   "cell_type": "code",
   "execution_count": 4,
   "id": "4c005f69",
   "metadata": {},
   "outputs": [
    {
     "name": "stdout",
     "output_type": "stream",
     "text": [
      "(574, 2)\n",
      "(613, 2)\n"
     ]
    }
   ],
   "source": [
    "print(match1_df.shape)\n",
    "print(match2_df.shape)"
   ]
  },
  {
   "cell_type": "code",
   "execution_count": 5,
   "id": "18aea59f",
   "metadata": {},
   "outputs": [
    {
     "data": {
      "text/plain": [
       "label    object\n",
       "norm     object\n",
       "dtype: object"
      ]
     },
     "execution_count": 5,
     "metadata": {},
     "output_type": "execute_result"
    }
   ],
   "source": [
    "match1_df.dtypes"
   ]
  },
  {
   "cell_type": "code",
   "execution_count": 6,
   "id": "4ccefa86",
   "metadata": {},
   "outputs": [
    {
     "data": {
      "text/html": [
       "<div>\n",
       "<style scoped>\n",
       "    .dataframe tbody tr th:only-of-type {\n",
       "        vertical-align: middle;\n",
       "    }\n",
       "\n",
       "    .dataframe tbody tr th {\n",
       "        vertical-align: top;\n",
       "    }\n",
       "\n",
       "    .dataframe thead th {\n",
       "        text-align: right;\n",
       "    }\n",
       "</style>\n",
       "<table border=\"1\" class=\"dataframe\">\n",
       "  <thead>\n",
       "    <tr style=\"text-align: right;\">\n",
       "      <th></th>\n",
       "      <th>label</th>\n",
       "      <th>norm</th>\n",
       "    </tr>\n",
       "  </thead>\n",
       "  <tbody>\n",
       "    <tr>\n",
       "      <th>0</th>\n",
       "      <td>walk</td>\n",
       "      <td>[23.177037336396975, 23.361525285249378, 21.53...</td>\n",
       "    </tr>\n",
       "    <tr>\n",
       "      <th>1</th>\n",
       "      <td>walk</td>\n",
       "      <td>[20.998214383911275, 19.182798059840767, 18.27...</td>\n",
       "    </tr>\n",
       "    <tr>\n",
       "      <th>2</th>\n",
       "      <td>walk</td>\n",
       "      <td>[21.95259682019565, 20.62720484424047, 22.5554...</td>\n",
       "    </tr>\n",
       "    <tr>\n",
       "      <th>3</th>\n",
       "      <td>walk</td>\n",
       "      <td>[19.39209748358647, 19.30460665293087, 18.9787...</td>\n",
       "    </tr>\n",
       "    <tr>\n",
       "      <th>4</th>\n",
       "      <td>rest</td>\n",
       "      <td>[22.069263037713093, 19.672270483203395, 19.88...</td>\n",
       "    </tr>\n",
       "    <tr>\n",
       "      <th>5</th>\n",
       "      <td>walk</td>\n",
       "      <td>[19.92032356700904, 19.672270483203395, 18.688...</td>\n",
       "    </tr>\n",
       "    <tr>\n",
       "      <th>6</th>\n",
       "      <td>walk</td>\n",
       "      <td>[72.43782600710844, 29.1545534760874, 51.00451...</td>\n",
       "    </tr>\n",
       "    <tr>\n",
       "      <th>7</th>\n",
       "      <td>walk</td>\n",
       "      <td>[56.86645792611747, 24.06617147011633, 39.4051...</td>\n",
       "    </tr>\n",
       "    <tr>\n",
       "      <th>8</th>\n",
       "      <td>run</td>\n",
       "      <td>[34.587473483674074, 33.423278993730264, 21.71...</td>\n",
       "    </tr>\n",
       "    <tr>\n",
       "      <th>9</th>\n",
       "      <td>run</td>\n",
       "      <td>[10.642204698384765, 27.15560347765402, 40.427...</td>\n",
       "    </tr>\n",
       "  </tbody>\n",
       "</table>\n",
       "</div>"
      ],
      "text/plain": [
       "  label                                               norm\n",
       "0  walk  [23.177037336396975, 23.361525285249378, 21.53...\n",
       "1  walk  [20.998214383911275, 19.182798059840767, 18.27...\n",
       "2  walk  [21.95259682019565, 20.62720484424047, 22.5554...\n",
       "3  walk  [19.39209748358647, 19.30460665293087, 18.9787...\n",
       "4  rest  [22.069263037713093, 19.672270483203395, 19.88...\n",
       "5  walk  [19.92032356700904, 19.672270483203395, 18.688...\n",
       "6  walk  [72.43782600710844, 29.1545534760874, 51.00451...\n",
       "7  walk  [56.86645792611747, 24.06617147011633, 39.4051...\n",
       "8   run  [34.587473483674074, 33.423278993730264, 21.71...\n",
       "9   run  [10.642204698384765, 27.15560347765402, 40.427..."
      ]
     },
     "execution_count": 6,
     "metadata": {},
     "output_type": "execute_result"
    }
   ],
   "source": [
    "match1_df.head(10)"
   ]
  },
  {
   "cell_type": "code",
   "execution_count": 7,
   "id": "3196afea",
   "metadata": {},
   "outputs": [
    {
     "data": {
      "text/html": [
       "<div>\n",
       "<style scoped>\n",
       "    .dataframe tbody tr th:only-of-type {\n",
       "        vertical-align: middle;\n",
       "    }\n",
       "\n",
       "    .dataframe tbody tr th {\n",
       "        vertical-align: top;\n",
       "    }\n",
       "\n",
       "    .dataframe thead th {\n",
       "        text-align: right;\n",
       "    }\n",
       "</style>\n",
       "<table border=\"1\" class=\"dataframe\">\n",
       "  <thead>\n",
       "    <tr style=\"text-align: right;\">\n",
       "      <th></th>\n",
       "      <th>label</th>\n",
       "      <th>norm</th>\n",
       "    </tr>\n",
       "  </thead>\n",
       "  <tbody>\n",
       "    <tr>\n",
       "      <th>0</th>\n",
       "      <td>no action</td>\n",
       "      <td>[104.42423889328715, 87.63989343949717, 128.52...</td>\n",
       "    </tr>\n",
       "    <tr>\n",
       "      <th>1</th>\n",
       "      <td>run</td>\n",
       "      <td>[108.03112639951678, 92.57566083451651, 81.303...</td>\n",
       "    </tr>\n",
       "    <tr>\n",
       "      <th>2</th>\n",
       "      <td>pass</td>\n",
       "      <td>[17.837163554142162, 39.435455203974186, 51.64...</td>\n",
       "    </tr>\n",
       "    <tr>\n",
       "      <th>3</th>\n",
       "      <td>rest</td>\n",
       "      <td>[21.91843920469922, 18.11914155706377, 21.7137...</td>\n",
       "    </tr>\n",
       "    <tr>\n",
       "      <th>4</th>\n",
       "      <td>walk</td>\n",
       "      <td>[20.86063916182152, 17.8097748446304, 14.35537...</td>\n",
       "    </tr>\n",
       "    <tr>\n",
       "      <th>5</th>\n",
       "      <td>run</td>\n",
       "      <td>[49.812428381775, 48.79010014640253, 49.324534...</td>\n",
       "    </tr>\n",
       "    <tr>\n",
       "      <th>6</th>\n",
       "      <td>run</td>\n",
       "      <td>[15.648260272255667, 66.52107737294585, 55.285...</td>\n",
       "    </tr>\n",
       "    <tr>\n",
       "      <th>7</th>\n",
       "      <td>run</td>\n",
       "      <td>[161.87013179947397, 50.15025698062749, 45.705...</td>\n",
       "    </tr>\n",
       "    <tr>\n",
       "      <th>8</th>\n",
       "      <td>run</td>\n",
       "      <td>[56.43391333209642, 55.40403998476187, 33.5163...</td>\n",
       "    </tr>\n",
       "    <tr>\n",
       "      <th>9</th>\n",
       "      <td>run</td>\n",
       "      <td>[59.72417426637023, 70.76862146426512, 53.7987...</td>\n",
       "    </tr>\n",
       "  </tbody>\n",
       "</table>\n",
       "</div>"
      ],
      "text/plain": [
       "       label                                               norm\n",
       "0  no action  [104.42423889328715, 87.63989343949717, 128.52...\n",
       "1        run  [108.03112639951678, 92.57566083451651, 81.303...\n",
       "2       pass  [17.837163554142162, 39.435455203974186, 51.64...\n",
       "3       rest  [21.91843920469922, 18.11914155706377, 21.7137...\n",
       "4       walk  [20.86063916182152, 17.8097748446304, 14.35537...\n",
       "5        run  [49.812428381775, 48.79010014640253, 49.324534...\n",
       "6        run  [15.648260272255667, 66.52107737294585, 55.285...\n",
       "7        run  [161.87013179947397, 50.15025698062749, 45.705...\n",
       "8        run  [56.43391333209642, 55.40403998476187, 33.5163...\n",
       "9        run  [59.72417426637023, 70.76862146426512, 53.7987..."
      ]
     },
     "execution_count": 7,
     "metadata": {},
     "output_type": "execute_result"
    }
   ],
   "source": [
    "match2_df.head(10)"
   ]
  },
  {
   "cell_type": "code",
   "execution_count": 8,
   "id": "12abd6ec",
   "metadata": {},
   "outputs": [
    {
     "name": "stdout",
     "output_type": "stream",
     "text": [
      "227 723 1 3\n",
      "Max norm is label                                                 rest\n",
      "norm     [36.508445455791104, 33.538318749948246, 28.43...\n",
      "Name: 422, dtype: object\n"
     ]
    }
   ],
   "source": [
    "max_norm_size1 = match1_df['norm'].apply(len).max()\n",
    "max_norm_size2 = match2_df['norm'].apply(len).max()\n",
    "min_norm_size1 = match1_df['norm'].apply(len).min()\n",
    "min_norm_size2 = match2_df['norm'].apply(len).min()\n",
    "\n",
    "\n",
    "# Find and print the largest list\n",
    "largest_list_index = match1_df['norm'].apply(len).idxmax()\n",
    "largest_list = match1_df.at[largest_list_index, 'norm']\n",
    "row = match1_df.loc[largest_list_index]\n",
    "\n",
    "print(max_norm_size1, max_norm_size2, min_norm_size1, min_norm_size2)\n",
    "\n",
    "#print(f\"The largest list is: {largest_list}\")\n",
    "print(\"Max norm is\",row)"
   ]
  },
  {
   "cell_type": "code",
   "execution_count": 9,
   "id": "5ae56b87",
   "metadata": {},
   "outputs": [
    {
     "data": {
      "text/plain": [
       "label    0\n",
       "norm     0\n",
       "dtype: int64"
      ]
     },
     "execution_count": 9,
     "metadata": {},
     "output_type": "execute_result"
    }
   ],
   "source": [
    "# Let's check for null cells in the dataframe\n",
    "match1_df.isnull().sum()"
   ]
  },
  {
   "cell_type": "code",
   "execution_count": 10,
   "id": "dc1e2cd1",
   "metadata": {},
   "outputs": [
    {
     "name": "stdout",
     "output_type": "stream",
     "text": [
      "['walk' 'rest' 'run' 'tackle' 'dribble' 'pass' 'cross' 'shot']\n",
      "['no action' 'run' 'pass' 'rest' 'walk' 'dribble' 'shot' 'tackle' 'cross']\n"
     ]
    }
   ],
   "source": [
    "# Let's look at the different action in a match\n",
    "print(match1_df[\"label\"].unique())\n",
    "print(match2_df[\"label\"].unique())"
   ]
  },
  {
   "cell_type": "code",
   "execution_count": 11,
   "id": "767c2a8a",
   "metadata": {},
   "outputs": [
    {
     "name": "stdout",
     "output_type": "stream",
     "text": [
      "There aren't more than four successive shots.\n"
     ]
    }
   ],
   "source": [
    "# But do we have more than four successive shot in match1 because it's pratically impossible to have that many successive shot in a match?\n",
    "\n",
    "def has_successive_shots(data_frame):\n",
    "    shots_count = 0\n",
    "    last_value = None\n",
    "    \n",
    "    for value in data_frame['label']:\n",
    "        if value == 'shot':\n",
    "            if last_value == 'shot':\n",
    "                shots_count += 1\n",
    "        last_value = value\n",
    "    \n",
    "    return shots_count > 4\n",
    "\n",
    "if has_successive_shots(match1_df):\n",
    "    print(\"There are more than four successive shots.\")\n",
    "else:\n",
    "    print(\"There aren't more than four successive shots.\")"
   ]
  },
  {
   "cell_type": "code",
   "execution_count": 12,
   "id": "fa49e0b9",
   "metadata": {},
   "outputs": [],
   "source": [
    "#Let's transform the norm column in a single value with represent the Mean and the Median of all the value in a the norm\n",
    "\n",
    "import numpy as np\n",
    "\n",
    "# Define the metric to use (mean, median, std)\n",
    "med = np.median  # Replace with the desired metric function\n",
    "mea = np.mean   # Replace with the desired metric function\n",
    "\n",
    "match1_df['Mean_norm'] = match1_df['norm'].apply(mea)\n",
    "match1_df['Median_norm'] = match1_df['norm'].apply(med)\n",
    "\n",
    "match2_df['Mean_norm'] = match2_df['norm'].apply(mea)\n",
    "match2_df['Median_norm'] = match2_df['norm'].apply(med)"
   ]
  },
  {
   "cell_type": "code",
   "execution_count": 13,
   "id": "9ca7cabf",
   "metadata": {},
   "outputs": [
    {
     "data": {
      "text/html": [
       "<div>\n",
       "<style scoped>\n",
       "    .dataframe tbody tr th:only-of-type {\n",
       "        vertical-align: middle;\n",
       "    }\n",
       "\n",
       "    .dataframe tbody tr th {\n",
       "        vertical-align: top;\n",
       "    }\n",
       "\n",
       "    .dataframe thead th {\n",
       "        text-align: right;\n",
       "    }\n",
       "</style>\n",
       "<table border=\"1\" class=\"dataframe\">\n",
       "  <thead>\n",
       "    <tr style=\"text-align: right;\">\n",
       "      <th></th>\n",
       "      <th>label</th>\n",
       "      <th>norm</th>\n",
       "      <th>Mean_norm</th>\n",
       "      <th>Median_norm</th>\n",
       "    </tr>\n",
       "  </thead>\n",
       "  <tbody>\n",
       "    <tr>\n",
       "      <th>0</th>\n",
       "      <td>walk</td>\n",
       "      <td>[23.177037336396975, 23.361525285249378, 21.53...</td>\n",
       "      <td>24.166958</td>\n",
       "      <td>22.417711</td>\n",
       "    </tr>\n",
       "    <tr>\n",
       "      <th>1</th>\n",
       "      <td>walk</td>\n",
       "      <td>[20.998214383911275, 19.182798059840767, 18.27...</td>\n",
       "      <td>26.026276</td>\n",
       "      <td>22.864346</td>\n",
       "    </tr>\n",
       "    <tr>\n",
       "      <th>2</th>\n",
       "      <td>walk</td>\n",
       "      <td>[21.95259682019565, 20.62720484424047, 22.5554...</td>\n",
       "      <td>23.998177</td>\n",
       "      <td>21.584619</td>\n",
       "    </tr>\n",
       "    <tr>\n",
       "      <th>3</th>\n",
       "      <td>walk</td>\n",
       "      <td>[19.39209748358647, 19.30460665293087, 18.9787...</td>\n",
       "      <td>22.596573</td>\n",
       "      <td>20.998214</td>\n",
       "    </tr>\n",
       "    <tr>\n",
       "      <th>4</th>\n",
       "      <td>rest</td>\n",
       "      <td>[22.069263037713093, 19.672270483203395, 19.88...</td>\n",
       "      <td>20.378778</td>\n",
       "      <td>20.509409</td>\n",
       "    </tr>\n",
       "    <tr>\n",
       "      <th>5</th>\n",
       "      <td>walk</td>\n",
       "      <td>[19.92032356700904, 19.672270483203395, 18.688...</td>\n",
       "      <td>28.237656</td>\n",
       "      <td>22.166468</td>\n",
       "    </tr>\n",
       "    <tr>\n",
       "      <th>6</th>\n",
       "      <td>walk</td>\n",
       "      <td>[72.43782600710844, 29.1545534760874, 51.00451...</td>\n",
       "      <td>26.561989</td>\n",
       "      <td>23.415829</td>\n",
       "    </tr>\n",
       "    <tr>\n",
       "      <th>7</th>\n",
       "      <td>walk</td>\n",
       "      <td>[56.86645792611747, 24.06617147011633, 39.4051...</td>\n",
       "      <td>25.081731</td>\n",
       "      <td>24.098813</td>\n",
       "    </tr>\n",
       "    <tr>\n",
       "      <th>8</th>\n",
       "      <td>run</td>\n",
       "      <td>[34.587473483674074, 33.423278993730264, 21.71...</td>\n",
       "      <td>30.745144</td>\n",
       "      <td>26.259087</td>\n",
       "    </tr>\n",
       "    <tr>\n",
       "      <th>9</th>\n",
       "      <td>run</td>\n",
       "      <td>[10.642204698384765, 27.15560347765402, 40.427...</td>\n",
       "      <td>43.360407</td>\n",
       "      <td>35.184236</td>\n",
       "    </tr>\n",
       "    <tr>\n",
       "      <th>10</th>\n",
       "      <td>run</td>\n",
       "      <td>[32.233688127512615, 36.89809289692755, 8.2447...</td>\n",
       "      <td>74.811180</td>\n",
       "      <td>36.418433</td>\n",
       "    </tr>\n",
       "    <tr>\n",
       "      <th>11</th>\n",
       "      <td>run</td>\n",
       "      <td>[83.7407983082155, 66.77342253554224, 42.77714...</td>\n",
       "      <td>47.746887</td>\n",
       "      <td>47.607698</td>\n",
       "    </tr>\n",
       "    <tr>\n",
       "      <th>12</th>\n",
       "      <td>run</td>\n",
       "      <td>[37.869150829417954, 54.11172511661044, 78.003...</td>\n",
       "      <td>61.224819</td>\n",
       "      <td>57.418869</td>\n",
       "    </tr>\n",
       "    <tr>\n",
       "      <th>13</th>\n",
       "      <td>run</td>\n",
       "      <td>[113.69326641975776, 65.52014051897928, 28.858...</td>\n",
       "      <td>46.986412</td>\n",
       "      <td>37.542188</td>\n",
       "    </tr>\n",
       "    <tr>\n",
       "      <th>14</th>\n",
       "      <td>run</td>\n",
       "      <td>[62.06139251427272, 89.67605818532884, 37.0199...</td>\n",
       "      <td>41.238671</td>\n",
       "      <td>28.728759</td>\n",
       "    </tr>\n",
       "    <tr>\n",
       "      <th>15</th>\n",
       "      <td>run</td>\n",
       "      <td>[27.798795238835837, 33.112992822621955, 44.43...</td>\n",
       "      <td>43.051051</td>\n",
       "      <td>41.880234</td>\n",
       "    </tr>\n",
       "    <tr>\n",
       "      <th>16</th>\n",
       "      <td>run</td>\n",
       "      <td>[48.08161348964844, 70.07894713702726, 47.9274...</td>\n",
       "      <td>40.858551</td>\n",
       "      <td>32.915991</td>\n",
       "    </tr>\n",
       "    <tr>\n",
       "      <th>17</th>\n",
       "      <td>run</td>\n",
       "      <td>[47.38760560769339, 43.70009618162488, 40.7040...</td>\n",
       "      <td>34.332022</td>\n",
       "      <td>35.277720</td>\n",
       "    </tr>\n",
       "    <tr>\n",
       "      <th>18</th>\n",
       "      <td>run</td>\n",
       "      <td>[26.108944021300264, 31.39610768618512, 28.335...</td>\n",
       "      <td>35.147019</td>\n",
       "      <td>29.193820</td>\n",
       "    </tr>\n",
       "    <tr>\n",
       "      <th>19</th>\n",
       "      <td>run</td>\n",
       "      <td>[28.421202962383536, 31.884042074592887, 29.52...</td>\n",
       "      <td>27.330255</td>\n",
       "      <td>28.973514</td>\n",
       "    </tr>\n",
       "  </tbody>\n",
       "</table>\n",
       "</div>"
      ],
      "text/plain": [
       "   label                                               norm  Mean_norm   \n",
       "0   walk  [23.177037336396975, 23.361525285249378, 21.53...  24.166958  \\\n",
       "1   walk  [20.998214383911275, 19.182798059840767, 18.27...  26.026276   \n",
       "2   walk  [21.95259682019565, 20.62720484424047, 22.5554...  23.998177   \n",
       "3   walk  [19.39209748358647, 19.30460665293087, 18.9787...  22.596573   \n",
       "4   rest  [22.069263037713093, 19.672270483203395, 19.88...  20.378778   \n",
       "5   walk  [19.92032356700904, 19.672270483203395, 18.688...  28.237656   \n",
       "6   walk  [72.43782600710844, 29.1545534760874, 51.00451...  26.561989   \n",
       "7   walk  [56.86645792611747, 24.06617147011633, 39.4051...  25.081731   \n",
       "8    run  [34.587473483674074, 33.423278993730264, 21.71...  30.745144   \n",
       "9    run  [10.642204698384765, 27.15560347765402, 40.427...  43.360407   \n",
       "10   run  [32.233688127512615, 36.89809289692755, 8.2447...  74.811180   \n",
       "11   run  [83.7407983082155, 66.77342253554224, 42.77714...  47.746887   \n",
       "12   run  [37.869150829417954, 54.11172511661044, 78.003...  61.224819   \n",
       "13   run  [113.69326641975776, 65.52014051897928, 28.858...  46.986412   \n",
       "14   run  [62.06139251427272, 89.67605818532884, 37.0199...  41.238671   \n",
       "15   run  [27.798795238835837, 33.112992822621955, 44.43...  43.051051   \n",
       "16   run  [48.08161348964844, 70.07894713702726, 47.9274...  40.858551   \n",
       "17   run  [47.38760560769339, 43.70009618162488, 40.7040...  34.332022   \n",
       "18   run  [26.108944021300264, 31.39610768618512, 28.335...  35.147019   \n",
       "19   run  [28.421202962383536, 31.884042074592887, 29.52...  27.330255   \n",
       "\n",
       "    Median_norm  \n",
       "0     22.417711  \n",
       "1     22.864346  \n",
       "2     21.584619  \n",
       "3     20.998214  \n",
       "4     20.509409  \n",
       "5     22.166468  \n",
       "6     23.415829  \n",
       "7     24.098813  \n",
       "8     26.259087  \n",
       "9     35.184236  \n",
       "10    36.418433  \n",
       "11    47.607698  \n",
       "12    57.418869  \n",
       "13    37.542188  \n",
       "14    28.728759  \n",
       "15    41.880234  \n",
       "16    32.915991  \n",
       "17    35.277720  \n",
       "18    29.193820  \n",
       "19    28.973514  "
      ]
     },
     "execution_count": 13,
     "metadata": {},
     "output_type": "execute_result"
    }
   ],
   "source": [
    "match1_df.head(20)"
   ]
  },
  {
   "cell_type": "code",
   "execution_count": 14,
   "id": "4317bd88",
   "metadata": {},
   "outputs": [
    {
     "name": "stderr",
     "output_type": "stream",
     "text": [
      "/home/idrassa/.local/lib/python3.10/site-packages/sklearn/cluster/_kmeans.py:870: FutureWarning: The default value of `n_init` will change from 10 to 'auto' in 1.4. Set the value of `n_init` explicitly to suppress the warning\n",
      "  warnings.warn(\n",
      "/home/idrassa/.local/lib/python3.10/site-packages/sklearn/cluster/_kmeans.py:870: FutureWarning: The default value of `n_init` will change from 10 to 'auto' in 1.4. Set the value of `n_init` explicitly to suppress the warning\n",
      "  warnings.warn(\n"
     ]
    }
   ],
   "source": [
    "#Let's try to make a Clustering to see how the actions (labels) are arranged between them \n",
    "from sklearn.cluster import KMeans\n",
    "import matplotlib.pyplot as plt\n",
    "\n",
    "\n",
    "# Create the feature matrix\n",
    "feature_matrix_mean = np.array(match1_df['Mean_norm']).reshape(-1, 1)\n",
    "feature_matrix_med = np.array(match1_df['Median_norm']).reshape(-1, 1)\n",
    "\n",
    "# Perform K-Means clustering\n",
    "num_clusters = 8  # Number of clusters to find\n",
    "kmeans = KMeans(n_clusters=num_clusters)\n",
    "match1_df['cluster_mean'] = kmeans.fit_predict(feature_matrix_mean)\n",
    "match1_df['cluster_med'] = kmeans.fit_predict(feature_matrix_med)"
   ]
  },
  {
   "cell_type": "code",
   "execution_count": 15,
   "id": "16bf7ffa",
   "metadata": {},
   "outputs": [
    {
     "name": "stderr",
     "output_type": "stream",
     "text": [
      "/home/idrassa/.local/lib/python3.10/site-packages/sklearn/cluster/_kmeans.py:870: FutureWarning: The default value of `n_init` will change from 10 to 'auto' in 1.4. Set the value of `n_init` explicitly to suppress the warning\n",
      "  warnings.warn(\n",
      "/home/idrassa/.local/lib/python3.10/site-packages/sklearn/cluster/_kmeans.py:870: FutureWarning: The default value of `n_init` will change from 10 to 'auto' in 1.4. Set the value of `n_init` explicitly to suppress the warning\n",
      "  warnings.warn(\n"
     ]
    }
   ],
   "source": [
    "# Create the feature matrix match 2\n",
    "feature_matrix_mean2 = np.array(match2_df['Mean_norm']).reshape(-1, 1)\n",
    "feature_matrix_med2 = np.array(match2_df['Median_norm']).reshape(-1, 1)\n",
    "\n",
    "# Perform K-Means clustering\n",
    "num_clusters2 = 9  # Number of clusters to find\n",
    "kmeans = KMeans(n_clusters=num_clusters)\n",
    "match2_df['cluster_mean'] = kmeans.fit_predict(feature_matrix_mean2)\n",
    "match2_df['cluster_med'] = kmeans.fit_predict(feature_matrix_med2)"
   ]
  },
  {
   "cell_type": "code",
   "execution_count": 16,
   "id": "5291f5de",
   "metadata": {},
   "outputs": [
    {
     "data": {
      "text/html": [
       "<div>\n",
       "<style scoped>\n",
       "    .dataframe tbody tr th:only-of-type {\n",
       "        vertical-align: middle;\n",
       "    }\n",
       "\n",
       "    .dataframe tbody tr th {\n",
       "        vertical-align: top;\n",
       "    }\n",
       "\n",
       "    .dataframe thead th {\n",
       "        text-align: right;\n",
       "    }\n",
       "</style>\n",
       "<table border=\"1\" class=\"dataframe\">\n",
       "  <thead>\n",
       "    <tr style=\"text-align: right;\">\n",
       "      <th></th>\n",
       "      <th>label</th>\n",
       "      <th>norm</th>\n",
       "      <th>Mean_norm</th>\n",
       "      <th>Median_norm</th>\n",
       "      <th>cluster_mean</th>\n",
       "      <th>cluster_med</th>\n",
       "    </tr>\n",
       "  </thead>\n",
       "  <tbody>\n",
       "    <tr>\n",
       "      <th>0</th>\n",
       "      <td>walk</td>\n",
       "      <td>[23.177037336396975, 23.361525285249378, 21.53...</td>\n",
       "      <td>24.166958</td>\n",
       "      <td>22.417711</td>\n",
       "      <td>5</td>\n",
       "      <td>5</td>\n",
       "    </tr>\n",
       "    <tr>\n",
       "      <th>1</th>\n",
       "      <td>walk</td>\n",
       "      <td>[20.998214383911275, 19.182798059840767, 18.27...</td>\n",
       "      <td>26.026276</td>\n",
       "      <td>22.864346</td>\n",
       "      <td>5</td>\n",
       "      <td>5</td>\n",
       "    </tr>\n",
       "    <tr>\n",
       "      <th>2</th>\n",
       "      <td>walk</td>\n",
       "      <td>[21.95259682019565, 20.62720484424047, 22.5554...</td>\n",
       "      <td>23.998177</td>\n",
       "      <td>21.584619</td>\n",
       "      <td>5</td>\n",
       "      <td>5</td>\n",
       "    </tr>\n",
       "    <tr>\n",
       "      <th>3</th>\n",
       "      <td>walk</td>\n",
       "      <td>[19.39209748358647, 19.30460665293087, 18.9787...</td>\n",
       "      <td>22.596573</td>\n",
       "      <td>20.998214</td>\n",
       "      <td>5</td>\n",
       "      <td>5</td>\n",
       "    </tr>\n",
       "    <tr>\n",
       "      <th>4</th>\n",
       "      <td>rest</td>\n",
       "      <td>[22.069263037713093, 19.672270483203395, 19.88...</td>\n",
       "      <td>20.378778</td>\n",
       "      <td>20.509409</td>\n",
       "      <td>5</td>\n",
       "      <td>5</td>\n",
       "    </tr>\n",
       "    <tr>\n",
       "      <th>5</th>\n",
       "      <td>walk</td>\n",
       "      <td>[19.92032356700904, 19.672270483203395, 18.688...</td>\n",
       "      <td>28.237656</td>\n",
       "      <td>22.166468</td>\n",
       "      <td>5</td>\n",
       "      <td>5</td>\n",
       "    </tr>\n",
       "    <tr>\n",
       "      <th>6</th>\n",
       "      <td>walk</td>\n",
       "      <td>[72.43782600710844, 29.1545534760874, 51.00451...</td>\n",
       "      <td>26.561989</td>\n",
       "      <td>23.415829</td>\n",
       "      <td>5</td>\n",
       "      <td>5</td>\n",
       "    </tr>\n",
       "    <tr>\n",
       "      <th>7</th>\n",
       "      <td>walk</td>\n",
       "      <td>[56.86645792611747, 24.06617147011633, 39.4051...</td>\n",
       "      <td>25.081731</td>\n",
       "      <td>24.098813</td>\n",
       "      <td>5</td>\n",
       "      <td>5</td>\n",
       "    </tr>\n",
       "    <tr>\n",
       "      <th>8</th>\n",
       "      <td>run</td>\n",
       "      <td>[34.587473483674074, 33.423278993730264, 21.71...</td>\n",
       "      <td>30.745144</td>\n",
       "      <td>26.259087</td>\n",
       "      <td>0</td>\n",
       "      <td>1</td>\n",
       "    </tr>\n",
       "    <tr>\n",
       "      <th>9</th>\n",
       "      <td>run</td>\n",
       "      <td>[10.642204698384765, 27.15560347765402, 40.427...</td>\n",
       "      <td>43.360407</td>\n",
       "      <td>35.184236</td>\n",
       "      <td>3</td>\n",
       "      <td>4</td>\n",
       "    </tr>\n",
       "    <tr>\n",
       "      <th>10</th>\n",
       "      <td>run</td>\n",
       "      <td>[32.233688127512615, 36.89809289692755, 8.2447...</td>\n",
       "      <td>74.811180</td>\n",
       "      <td>36.418433</td>\n",
       "      <td>1</td>\n",
       "      <td>4</td>\n",
       "    </tr>\n",
       "    <tr>\n",
       "      <th>11</th>\n",
       "      <td>run</td>\n",
       "      <td>[83.7407983082155, 66.77342253554224, 42.77714...</td>\n",
       "      <td>47.746887</td>\n",
       "      <td>47.607698</td>\n",
       "      <td>3</td>\n",
       "      <td>0</td>\n",
       "    </tr>\n",
       "    <tr>\n",
       "      <th>12</th>\n",
       "      <td>run</td>\n",
       "      <td>[37.869150829417954, 54.11172511661044, 78.003...</td>\n",
       "      <td>61.224819</td>\n",
       "      <td>57.418869</td>\n",
       "      <td>6</td>\n",
       "      <td>6</td>\n",
       "    </tr>\n",
       "    <tr>\n",
       "      <th>13</th>\n",
       "      <td>run</td>\n",
       "      <td>[113.69326641975776, 65.52014051897928, 28.858...</td>\n",
       "      <td>46.986412</td>\n",
       "      <td>37.542188</td>\n",
       "      <td>3</td>\n",
       "      <td>4</td>\n",
       "    </tr>\n",
       "    <tr>\n",
       "      <th>14</th>\n",
       "      <td>run</td>\n",
       "      <td>[62.06139251427272, 89.67605818532884, 37.0199...</td>\n",
       "      <td>41.238671</td>\n",
       "      <td>28.728759</td>\n",
       "      <td>3</td>\n",
       "      <td>1</td>\n",
       "    </tr>\n",
       "    <tr>\n",
       "      <th>15</th>\n",
       "      <td>run</td>\n",
       "      <td>[27.798795238835837, 33.112992822621955, 44.43...</td>\n",
       "      <td>43.051051</td>\n",
       "      <td>41.880234</td>\n",
       "      <td>3</td>\n",
       "      <td>0</td>\n",
       "    </tr>\n",
       "    <tr>\n",
       "      <th>16</th>\n",
       "      <td>run</td>\n",
       "      <td>[48.08161348964844, 70.07894713702726, 47.9274...</td>\n",
       "      <td>40.858551</td>\n",
       "      <td>32.915991</td>\n",
       "      <td>3</td>\n",
       "      <td>4</td>\n",
       "    </tr>\n",
       "    <tr>\n",
       "      <th>17</th>\n",
       "      <td>run</td>\n",
       "      <td>[47.38760560769339, 43.70009618162488, 40.7040...</td>\n",
       "      <td>34.332022</td>\n",
       "      <td>35.277720</td>\n",
       "      <td>0</td>\n",
       "      <td>4</td>\n",
       "    </tr>\n",
       "    <tr>\n",
       "      <th>18</th>\n",
       "      <td>run</td>\n",
       "      <td>[26.108944021300264, 31.39610768618512, 28.335...</td>\n",
       "      <td>35.147019</td>\n",
       "      <td>29.193820</td>\n",
       "      <td>0</td>\n",
       "      <td>1</td>\n",
       "    </tr>\n",
       "    <tr>\n",
       "      <th>19</th>\n",
       "      <td>run</td>\n",
       "      <td>[28.421202962383536, 31.884042074592887, 29.52...</td>\n",
       "      <td>27.330255</td>\n",
       "      <td>28.973514</td>\n",
       "      <td>5</td>\n",
       "      <td>1</td>\n",
       "    </tr>\n",
       "  </tbody>\n",
       "</table>\n",
       "</div>"
      ],
      "text/plain": [
       "   label                                               norm  Mean_norm   \n",
       "0   walk  [23.177037336396975, 23.361525285249378, 21.53...  24.166958  \\\n",
       "1   walk  [20.998214383911275, 19.182798059840767, 18.27...  26.026276   \n",
       "2   walk  [21.95259682019565, 20.62720484424047, 22.5554...  23.998177   \n",
       "3   walk  [19.39209748358647, 19.30460665293087, 18.9787...  22.596573   \n",
       "4   rest  [22.069263037713093, 19.672270483203395, 19.88...  20.378778   \n",
       "5   walk  [19.92032356700904, 19.672270483203395, 18.688...  28.237656   \n",
       "6   walk  [72.43782600710844, 29.1545534760874, 51.00451...  26.561989   \n",
       "7   walk  [56.86645792611747, 24.06617147011633, 39.4051...  25.081731   \n",
       "8    run  [34.587473483674074, 33.423278993730264, 21.71...  30.745144   \n",
       "9    run  [10.642204698384765, 27.15560347765402, 40.427...  43.360407   \n",
       "10   run  [32.233688127512615, 36.89809289692755, 8.2447...  74.811180   \n",
       "11   run  [83.7407983082155, 66.77342253554224, 42.77714...  47.746887   \n",
       "12   run  [37.869150829417954, 54.11172511661044, 78.003...  61.224819   \n",
       "13   run  [113.69326641975776, 65.52014051897928, 28.858...  46.986412   \n",
       "14   run  [62.06139251427272, 89.67605818532884, 37.0199...  41.238671   \n",
       "15   run  [27.798795238835837, 33.112992822621955, 44.43...  43.051051   \n",
       "16   run  [48.08161348964844, 70.07894713702726, 47.9274...  40.858551   \n",
       "17   run  [47.38760560769339, 43.70009618162488, 40.7040...  34.332022   \n",
       "18   run  [26.108944021300264, 31.39610768618512, 28.335...  35.147019   \n",
       "19   run  [28.421202962383536, 31.884042074592887, 29.52...  27.330255   \n",
       "\n",
       "    Median_norm  cluster_mean  cluster_med  \n",
       "0     22.417711             5            5  \n",
       "1     22.864346             5            5  \n",
       "2     21.584619             5            5  \n",
       "3     20.998214             5            5  \n",
       "4     20.509409             5            5  \n",
       "5     22.166468             5            5  \n",
       "6     23.415829             5            5  \n",
       "7     24.098813             5            5  \n",
       "8     26.259087             0            1  \n",
       "9     35.184236             3            4  \n",
       "10    36.418433             1            4  \n",
       "11    47.607698             3            0  \n",
       "12    57.418869             6            6  \n",
       "13    37.542188             3            4  \n",
       "14    28.728759             3            1  \n",
       "15    41.880234             3            0  \n",
       "16    32.915991             3            4  \n",
       "17    35.277720             0            4  \n",
       "18    29.193820             0            1  \n",
       "19    28.973514             5            1  "
      ]
     },
     "execution_count": 16,
     "metadata": {},
     "output_type": "execute_result"
    }
   ],
   "source": [
    "match1_df.head(20)"
   ]
  },
  {
   "cell_type": "code",
   "execution_count": 17,
   "id": "60020141",
   "metadata": {},
   "outputs": [
    {
     "data": {
      "image/png": "[encoded data removed]",
      "text/plain": [
       "<Figure size 1000x600 with 1 Axes>"
      ]
     },
     "metadata": {},
     "output_type": "display_data"
    }
   ],
   "source": [
    "# Create scatter plot match 1\n",
    "plt.figure(figsize=(10, 6))\n",
    "colors =  ['red', 'blue', 'green', 'orange', 'purple', 'brown', 'pink', 'gray', 'cyan']\n",
    "for i in range(num_clusters):\n",
    "    cluster_data = match1_df[match1_df['cluster_mean'] == i]\n",
    "    plt.scatter(cluster_data['Mean_norm'], cluster_data.index, color=colors[i], label=f'Cluster {i}')\n",
    "    \n",
    "plt.xlabel('Acceleration Norm')\n",
    "plt.ylabel('Action Index')\n",
    "plt.title('Clusters of Actions Based on Acceleration Norms')\n",
    "plt.legend()\n",
    "plt.show()"
   ]
  },
  {
   "cell_type": "code",
   "execution_count": 18,
   "id": "3f620df5",
   "metadata": {},
   "outputs": [
    {
     "data": {
      "image/png": "[encoded data removed]",
      "text/plain": [
       "<Figure size 1000x600 with 1 Axes>"
      ]
     },
     "metadata": {},
     "output_type": "display_data"
    }
   ],
   "source": [
    "# Create scatter plot match 2\n",
    "plt.figure(figsize=(10, 6))\n",
    "colors =  ['red', 'blue', 'green', 'orange', 'purple', 'brown', 'pink', 'gray', 'cyan']\n",
    "for i in range(num_clusters2):\n",
    "    cluster_data = match2_df[match2_df['cluster_mean'] == i]\n",
    "    plt.scatter(cluster_data['Mean_norm'], cluster_data.index, color=colors[i], label=f'Cluster {i}')\n",
    "    \n",
    "plt.xlabel('Acceleration Norm')\n",
    "plt.ylabel('Action Index')\n",
    "plt.title('Clusters of Actions Based on Acceleration Norms')\n",
    "plt.legend()\n",
    "plt.show()"
   ]
  },
  {
   "cell_type": "code",
   "execution_count": 19,
   "id": "5a6d1c17",
   "metadata": {},
   "outputs": [
    {
     "data": {
      "text/plain": [
       "['label_encoder.pkl']"
      ]
     },
     "execution_count": 19,
     "metadata": {},
     "output_type": "execute_result"
    }
   ],
   "source": [
    "import joblib\n",
    "from sklearn.preprocessing import LabelEncoder\n",
    "label_encoder = LabelEncoder()\n",
    "label_encoder.fit(match2_df['label'])\n",
    "\n",
    "\n",
    "y1=label_encoder.transform(match1_df['label'])\n",
    "y2=label_encoder.transform(match2_df['label'])\n",
    "\n",
    "\n",
    "# Save the label_encoder to a file\n",
    "joblib.dump(label_encoder, 'label_encoder.pkl')"
   ]
  },
  {
   "cell_type": "code",
   "execution_count": 20,
   "id": "1ac0b9cd",
   "metadata": {},
   "outputs": [
    {
     "data": {
      "text/plain": [
       "dtype('int64')"
      ]
     },
     "execution_count": 20,
     "metadata": {},
     "output_type": "execute_result"
    }
   ],
   "source": [
    "y2.dtype"
   ]
  },
  {
   "cell_type": "code",
   "execution_count": 21,
   "id": "309da499",
   "metadata": {},
   "outputs": [],
   "source": [
    "#Drop column that we won't use\n",
    "match1_df=match1_df.drop('label',axis=1)\n",
    "match1_df=match1_df.drop('norm',axis=1)\n",
    "match1_df=match1_df.drop('cluster_mean',axis=1)\n",
    "match1_df=match1_df.drop('cluster_med',axis=1)\n",
    "\n",
    "match2_df=match2_df.drop('label',axis=1)\n",
    "match2_df=match2_df.drop('norm',axis=1)\n",
    "match2_df=match2_df.drop('cluster_mean',axis=1)\n",
    "match2_df=match2_df.drop('cluster_med',axis=1)"
   ]
  },
  {
   "cell_type": "code",
   "execution_count": 22,
   "id": "c26b9b86",
   "metadata": {},
   "outputs": [
    {
     "data": {
      "text/plain": [
       "Mean_norm      float64\n",
       "Median_norm    float64\n",
       "dtype: object"
      ]
     },
     "execution_count": 22,
     "metadata": {},
     "output_type": "execute_result"
    }
   ],
   "source": [
    "match1_df.dtypes"
   ]
  },
  {
   "cell_type": "code",
   "execution_count": 23,
   "id": "3b7e5058",
   "metadata": {},
   "outputs": [],
   "source": [
    "X1=match1_df.to_numpy()\n",
    "X2=match2_df.to_numpy()"
   ]
  },
  {
   "cell_type": "code",
   "execution_count": 24,
   "id": "d28d3ed1",
   "metadata": {},
   "outputs": [],
   "source": [
    "from sklearn.preprocessing import StandardScaler\n",
    "scaler = StandardScaler()\n",
    "\n",
    "scaler.fit(X2)\n",
    "\n",
    "X2_train = scaler.transform(X2)\n",
    "\n",
    "X1_test = scaler.transform(X1)"
   ]
  },
  {
   "cell_type": "code",
   "execution_count": 25,
   "id": "94186982",
   "metadata": {},
   "outputs": [],
   "source": [
    "#splitting data \n",
    "from sklearn.model_selection import train_test_split\n",
    "X_valid, X_test, y_valid, y_test = train_test_split(X1_test, \n",
    "                                                    y1,\n",
    "                                                    test_size=0.33,\n",
    "                                                    random_state=42)"
   ]
  },
  {
   "cell_type": "markdown",
   "id": "94ab4a39",
   "metadata": {},
   "source": [
    "## Approaches"
   ]
  },
  {
   "cell_type": "markdown",
   "id": "84a34030",
   "metadata": {},
   "source": [
    "### RandomForestClassifier"
   ]
  },
  {
   "cell_type": "code",
   "execution_count": 26,
   "id": "3ebdf03e",
   "metadata": {},
   "outputs": [
    {
     "data": {
      "text/html": [
       "<style>#sk-container-id-1 {color: black;background-color: white;}#sk-container-id-1 pre{padding: 0;}#sk-container-id-1 div.sk-toggleable {background-color: white;}#sk-container-id-1 label.sk-toggleable__label {cursor: pointer;display: block;width: 100%;margin-bottom: 0;padding: 0.3em;box-sizing: border-box;text-align: center;}#sk-container-id-1 label.sk-toggleable__label-arrow:before {content: \"▸\";float: left;margin-right: 0.25em;color: #696969;}#sk-container-id-1 label.sk-toggleable__label-arrow:hover:before {color: black;}#sk-container-id-1 div.sk-estimator:hover label.sk-toggleable__label-arrow:before {color: black;}#sk-container-id-1 div.sk-toggleable__content {max-height: 0;max-width: 0;overflow: hidden;text-align: left;background-color: #f0f8ff;}#sk-container-id-1 div.sk-toggleable__content pre {margin: 0.2em;color: black;border-radius: 0.25em;background-color: #f0f8ff;}#sk-container-id-1 input.sk-toggleable__control:checked~div.sk-toggleable__content {max-height: 200px;max-width: 100%;overflow: auto;}#sk-container-id-1 input.sk-toggleable__control:checked~label.sk-toggleable__label-arrow:before {content: \"▾\";}#sk-container-id-1 div.sk-estimator input.sk-toggleable__control:checked~label.sk-toggleable__label {background-color: #d4ebff;}#sk-container-id-1 div.sk-label input.sk-toggleable__control:checked~label.sk-toggleable__label {background-color: #d4ebff;}#sk-container-id-1 input.sk-hidden--visually {border: 0;clip: rect(1px 1px 1px 1px);clip: rect(1px, 1px, 1px, 1px);height: 1px;margin: -1px;overflow: hidden;padding: 0;position: absolute;width: 1px;}#sk-container-id-1 div.sk-estimator {font-family: monospace;background-color: #f0f8ff;border: 1px dotted black;border-radius: 0.25em;box-sizing: border-box;margin-bottom: 0.5em;}#sk-container-id-1 div.sk-estimator:hover {background-color: #d4ebff;}#sk-container-id-1 div.sk-parallel-item::after {content: \"\";width: 100%;border-bottom: 1px solid gray;flex-grow: 1;}#sk-container-id-1 div.sk-label:hover label.sk-toggleable__label {background-color: #d4ebff;}#sk-container-id-1 div.sk-serial::before {content: \"\";position: absolute;border-left: 1px solid gray;box-sizing: border-box;top: 0;bottom: 0;left: 50%;z-index: 0;}#sk-container-id-1 div.sk-serial {display: flex;flex-direction: column;align-items: center;background-color: white;padding-right: 0.2em;padding-left: 0.2em;position: relative;}#sk-container-id-1 div.sk-item {position: relative;z-index: 1;}#sk-container-id-1 div.sk-parallel {display: flex;align-items: stretch;justify-content: center;background-color: white;position: relative;}#sk-container-id-1 div.sk-item::before, #sk-container-id-1 div.sk-parallel-item::before {content: \"\";position: absolute;border-left: 1px solid gray;box-sizing: border-box;top: 0;bottom: 0;left: 50%;z-index: -1;}#sk-container-id-1 div.sk-parallel-item {display: flex;flex-direction: column;z-index: 1;position: relative;background-color: white;}#sk-container-id-1 div.sk-parallel-item:first-child::after {align-self: flex-end;width: 50%;}#sk-container-id-1 div.sk-parallel-item:last-child::after {align-self: flex-start;width: 50%;}#sk-container-id-1 div.sk-parallel-item:only-child::after {width: 0;}#sk-container-id-1 div.sk-dashed-wrapped {border: 1px dashed gray;margin: 0 0.4em 0.5em 0.4em;box-sizing: border-box;padding-bottom: 0.4em;background-color: white;}#sk-container-id-1 div.sk-label label {font-family: monospace;font-weight: bold;display: inline-block;line-height: 1.2em;}#sk-container-id-1 div.sk-label-container {text-align: center;}#sk-container-id-1 div.sk-container {/* jupyter's `normalize.less` sets `[hidden] { display: none; }` but bootstrap.min.css set `[hidden] { display: none !important; }` so we also need the `!important` here to be able to override the default hidden behavior on the sphinx rendered scikit-learn.org. See: https://github.com/scikit-learn/scikit-learn/issues/21755 */display: inline-block !important;position: relative;}#sk-container-id-1 div.sk-text-repr-fallback {display: none;}</style><div id=\"sk-container-id-1\" class=\"sk-top-container\"><div class=\"sk-text-repr-fallback\"><pre>RandomForestClassifier(random_state=42)</pre><b>In a Jupyter environment, please rerun this cell to show the HTML representation or trust the notebook. <br />On GitHub, the HTML representation is unable to render, please try loading this page with nbviewer.org.</b></div><div class=\"sk-container\" hidden><div class=\"sk-item\"><div class=\"sk-estimator sk-toggleable\"><input class=\"sk-toggleable__control sk-hidden--visually\" id=\"sk-estimator-id-1\" type=\"checkbox\" checked><label for=\"sk-estimator-id-1\" class=\"sk-toggleable__label sk-toggleable__label-arrow\">RandomForestClassifier</label><div class=\"sk-toggleable__content\"><pre>RandomForestClassifier(random_state=42)</pre></div></div></div></div></div>"
      ],
      "text/plain": [
       "RandomForestClassifier(random_state=42)"
      ]
     },
     "execution_count": 26,
     "metadata": {},
     "output_type": "execute_result"
    }
   ],
   "source": [
    "#First let try a simple Random Forest\n",
    "\n",
    "from sklearn.ensemble import RandomForestClassifier\n",
    "rf = RandomForestClassifier(random_state=42)\n",
    "rf.fit(X2_train, y2)"
   ]
  },
  {
   "cell_type": "code",
   "execution_count": 27,
   "id": "2890902e",
   "metadata": {},
   "outputs": [
    {
     "data": {
      "text/plain": [
       "0.6684210526315789"
      ]
     },
     "execution_count": 27,
     "metadata": {},
     "output_type": "execute_result"
    }
   ],
   "source": [
    "rf.score(X_test, y_test)"
   ]
  },
  {
   "cell_type": "code",
   "execution_count": 28,
   "id": "de5e0075",
   "metadata": {},
   "outputs": [
    {
     "name": "stdout",
     "output_type": "stream",
     "text": [
      "[8 5 8 8 8 8 4 5 5 5 8 8 8 5 8 5 1 5 5 5 5 8 8 5 5 5 8 5 2 8 5 5 5 5 8 5 8\n",
      " 8 8 8 5 8 5 8 8 5 5 1 8 5 8 8 5 5 5 5 5 8 8 5 6 5 5 5 5 8 5 5 8 8 5 5 5 8\n",
      " 5 5 5 8 8 8 5 5 8 8 5 8 8 8 8 8 5 5 5 8 8 4 8 5 5 8 8 5 5 8 8 8 8 8 8 8 1\n",
      " 5 8 5 5 5 8 5 5 8 5 5 8 8 5 8 5 5 6 8 6 5 5 8 5 8 8 8 8 5 5 5 8 4 5 8 5 8\n",
      " 8 5 8 8 8 5 8 8 8 6 5 8 5 8 5 5 5 5 8 8 5 5 8 5 8 8 8 5 8 8 5 8 5 8 5 8 8\n",
      " 5 8 1 8 5 5 8 8 5 5 5 5 8 5 5 8 8 5 8 5 5 5 8 8 5 5 5 8 5 8 8 5 5 8 8 8 8\n",
      " 8 5 5 5 5 5 5 5 3 8 8 5 5 5 5 8 8 8 5 6 8 5 5 8 8 5 8 8 5 5 5 4 8 8 8 1 5\n",
      " 8 5 5 5 5 5 8 5 5 8 6 5 8 5 5 8 8 5 8 5 5 8 8 8 5 5 5 5 5 8 8 5 8 8 5 5 8\n",
      " 1 5 8 5 8 8 8 5 5 8 5 5 5 8 8 5 8 8 5 5 8 5 8 5 5 5 5 8 5 6 8 8 1 8 8 5 8\n",
      " 5 8 8 5 8 8 8 5 8 5 8 5 8 8 8 5 8 8 4 5 5 8 5 5 5 5 8 8 5 8 5 5 5 8 5 5 5\n",
      " 5 8 8 8 8 1 8 5 5 8 8 5 5 5]\n"
     ]
    }
   ],
   "source": [
    "Y_predict = rf.predict(X_valid)\n",
    "print(Y_predict)"
   ]
  },
  {
   "cell_type": "code",
   "execution_count": 29,
   "id": "0fcd395c",
   "metadata": {},
   "outputs": [
    {
     "name": "stdout",
     "output_type": "stream",
     "text": [
      "[8 5 8 8 8 5 8 8 3 8 4 8 8 5 8 5 1 7 5 5 5 8 4 3 8 5 8 1 5 8 5 5 6 5 8 5 8\n",
      " 8 8 8 7 8 5 8 8 5 1 8 8 1 8 8 8 7 5 5 5 8 5 5 6 5 1 5 5 8 5 8 8 8 1 3 5 8\n",
      " 1 5 1 8 8 8 1 1 8 8 3 8 8 8 8 8 1 5 5 8 8 4 8 5 1 8 4 1 7 5 8 8 8 8 8 8 5\n",
      " 7 8 5 5 5 1 1 5 8 3 1 8 4 3 8 1 5 5 8 5 7 3 8 5 8 8 7 8 7 5 1 8 4 5 8 5 8\n",
      " 8 5 8 8 8 5 8 8 8 5 1 8 5 8 5 5 5 6 8 4 5 5 8 5 8 8 8 5 8 8 8 8 7 8 8 8 8\n",
      " 5 8 5 8 1 1 4 8 5 3 5 5 8 5 1 8 5 5 8 3 5 5 8 8 5 5 5 8 5 8 8 5 8 8 8 5 8\n",
      " 5 5 5 5 8 5 5 5 6 8 8 5 5 5 5 8 3 8 5 6 8 5 5 8 8 5 8 3 5 5 5 4 8 8 8 5 5\n",
      " 8 5 5 0 5 5 8 5 1 8 5 5 8 5 5 8 4 7 8 1 5 8 8 4 1 5 5 5 3 8 8 5 8 5 8 5 8\n",
      " 5 5 8 5 8 5 8 5 1 8 5 8 5 4 8 5 8 8 5 3 8 5 8 5 7 8 1 8 1 5 5 5 5 8 5 8 8\n",
      " 5 8 8 8 8 8 8 5 8 5 8 7 8 3 8 1 8 8 4 5 3 8 7 8 8 5 8 8 5 8 7 5 3 8 5 5 8\n",
      " 1 8 8 8 8 5 8 5 5 8 8 3 7 5]\n"
     ]
    }
   ],
   "source": [
    "print(y_valid)"
   ]
  },
  {
   "cell_type": "markdown",
   "id": "74465882",
   "metadata": {},
   "source": [
    "### Multi Layer Perceptron (MLP)"
   ]
  },
  {
   "cell_type": "code",
   "execution_count": 30,
   "id": "54ce5a7a",
   "metadata": {},
   "outputs": [],
   "source": [
    "#Now we will use a simple MLP for the label prédiction\n",
    "import torch\n",
    "import torch.nn as nn\n",
    "from torch.autograd import Variable\n",
    "from torchvision import transforms\n",
    "import pytorch_lightning as pl\n",
    "from pytorch_lightning.callbacks import ModelCheckpoint\n",
    "from pytorch_lightning.loggers import TensorBoardLogger"
   ]
  },
  {
   "cell_type": "code",
   "execution_count": 31,
   "id": "b6c38cac",
   "metadata": {},
   "outputs": [],
   "source": [
    "class MLP(pl.LightningModule):\n",
    "  \n",
    "  def __init__(self, input_size, hidden1_size, hidden2_size, hidden3_size, num_class):\n",
    "    super().__init__()\n",
    "    self.layers = nn.Sequential(\n",
    "      nn.Linear(input_size, hidden1_size),\n",
    "      nn.ReLU(),\n",
    "      nn.Linear(hidden1_size, hidden2_size),\n",
    "      #nn.Dropout(0.2),\n",
    "      nn.ReLU(),\n",
    "      nn.Linear(hidden2_size, hidden3_size),\n",
    "      #nn.Dropout(0.2),\n",
    "      nn.ReLU(),\n",
    "      nn.Linear(hidden3_size, num_class),\n",
    "      nn.Softmax(dim=1)\n",
    "      #nn.Linear(hidden4_size, num_class)\n",
    "    )\n",
    "    self.ce = nn.CrossEntropyLoss()\n",
    "    \n",
    "  def forward(self, x):\n",
    "    return self.layers(x)\n",
    "  \n",
    "    \n",
    "  def predict_step(self, batch, batch_idx):\n",
    "    x, y = batch\n",
    "    y_hat = self.layers(x)\n",
    "    _, predicted = torch.max(y_hat, 1)\n",
    "    return predicted\n",
    "    \n",
    "  def training_step(self, batch, batch_idx):\n",
    "    x, y = batch\n",
    "    y_hat = self.layers(x)\n",
    "    loss = self.ce(y_hat, y)\n",
    "    _, predicted = torch.max(y_hat, 1)\n",
    "    acc = (predicted == y).double().mean()\n",
    "    self.log('train_loss', loss, prog_bar=True)\n",
    "    self.log(\"train_acc\", acc, prog_bar=True)\n",
    "    return loss\n",
    "    \n",
    "      \n",
    "  def validation_step(self, batch, batch_idx):\n",
    "    x, y = batch\n",
    "    y_hat = self.layers(x)\n",
    "    loss = self.ce(y_hat, y)\n",
    "    _, predicted = torch.max(y_hat, 1)\n",
    "    acc = (predicted == y).double().mean()\n",
    "    self.log('valid_loss', loss, prog_bar=True)\n",
    "    self.log(\"valid_acc\", acc, prog_bar=True)\n",
    "    return loss\n",
    "\n",
    "   \n",
    "  def test_step(self, batch, batch_idx):\n",
    "    x, y = batch\n",
    "    y_hat = self.layers(x)\n",
    "    loss = self.ce(y_hat, y)\n",
    "    _, predicted = torch.max(y_hat, 1)\n",
    "    acc = (predicted == y).double().mean()\n",
    "    self.log('test_loss', loss)\n",
    "    self.log(\"test_acc\", acc)\n",
    "    return loss\n",
    "  \n",
    "  def configure_optimizers(self):\n",
    "    optimizer = torch.optim.Adam(self.parameters(), lr=1e-4)\n",
    "    return optimizer"
   ]
  },
  {
   "cell_type": "code",
   "execution_count": 32,
   "id": "f9ef4172",
   "metadata": {},
   "outputs": [],
   "source": [
    "#Create the DataLoader\n",
    "from torch.utils.data import Dataset, DataLoader\n",
    "class Data(Dataset):\n",
    "  def __init__(self, X_train, y_train):\n",
    "    # need to convert float64 to float32 else \n",
    "    # will get the following error\n",
    "    # RuntimeError: expected scalar type Double but found Float\n",
    "    self.X = torch.from_numpy(X_train.astype(np.float32))\n",
    "    # need to convert float64 to Long else \n",
    "    # will get the following error\n",
    "    # RuntimeError: expected scalar type Long but found Float\n",
    "    self.y = torch.from_numpy(y_train).type(torch.LongTensor)\n",
    "    self.len = self.X.shape[0]\n",
    "  \n",
    "  def __getitem__(self, index):\n",
    "    return self.X[index], self.y[index]\n",
    "  def __len__(self):\n",
    "    return self.len"
   ]
  },
  {
   "cell_type": "code",
   "execution_count": 33,
   "id": "7910e078",
   "metadata": {},
   "outputs": [],
   "source": [
    "traindata = Data(X2_train, y2)\n",
    "Validata = Data(X_valid, y_valid)\n",
    "testdata = Data(X_test, y_test)"
   ]
  },
  {
   "cell_type": "code",
   "execution_count": 34,
   "id": "1389d6ef",
   "metadata": {},
   "outputs": [],
   "source": [
    "batch_size = 32\n",
    "train_loader = torch.utils.data.DataLoader(\n",
    "    traindata, batch_size=batch_size, num_workers=0, shuffle=True\n",
    ")\n",
    "\n",
    "val_loader = torch.utils.data.DataLoader(\n",
    "    Validata, batch_size=batch_size, num_workers=0, shuffle=True\n",
    ")\n",
    "test_loader = torch.utils.data.DataLoader(\n",
    "    testdata, batch_size=batch_size, num_workers=0, shuffle=True\n",
    ")"
   ]
  },
  {
   "cell_type": "code",
   "execution_count": 35,
   "id": "c0fc0408",
   "metadata": {},
   "outputs": [
    {
     "name": "stderr",
     "output_type": "stream",
     "text": [
      "/home/idrassa/anaconda3/envs/Porta1/lib/python3.10/site-packages/torch/cuda/__init__.py:546: UserWarning: Can't initialize NVML\n",
      "  warnings.warn(\"Can't initialize NVML\")\n",
      "GPU available: False, used: False\n",
      "TPU available: False, using: 0 TPU cores\n",
      "IPU available: False, using: 0 IPUs\n",
      "HPU available: False, using: 0 HPUs\n",
      "2023-08-14 20:34:57.144053: I tensorflow/core/platform/cpu_feature_guard.cc:182] This TensorFlow binary is optimized to use available CPU instructions in performance-critical operations.\n",
      "To enable the following instructions: AVX2 FMA, in other operations, rebuild TensorFlow with the appropriate compiler flags.\n",
      "2023-08-14 20:34:59.169505: W tensorflow/compiler/tf2tensorrt/utils/py_utils.cc:38] TF-TRT Warning: Could not find TensorRT\n",
      "\n",
      "  | Name   | Type             | Params\n",
      "--------------------------------------------\n",
      "0 | layers | Sequential       | 8.5 K \n",
      "1 | ce     | CrossEntropyLoss | 0     \n",
      "--------------------------------------------\n",
      "8.5 K     Trainable params\n",
      "0         Non-trainable params\n",
      "8.5 K     Total params\n",
      "0.034     Total estimated model params size (MB)\n"
     ]
    },
    {
     "name": "stdout",
     "output_type": "stream",
     "text": [
      "                                                                           "
     ]
    },
    {
     "name": "stderr",
     "output_type": "stream",
     "text": [
      "/home/idrassa/anaconda3/envs/Porta1/lib/python3.10/site-packages/pytorch_lightning/trainer/connectors/data_connector.py:480: PossibleUserWarning: Your `val_dataloader`'s sampler has shuffling enabled, it is strongly recommended that you turn shuffling off for val/test dataloaders.\n",
      "  rank_zero_warn(\n",
      "/home/idrassa/anaconda3/envs/Porta1/lib/python3.10/site-packages/pytorch_lightning/trainer/connectors/data_connector.py:432: PossibleUserWarning: The dataloader, val_dataloader, does not have many workers which may be a bottleneck. Consider increasing the value of the `num_workers` argument` (try 8 which is the number of cpus on this machine) in the `DataLoader` init to improve performance.\n",
      "  rank_zero_warn(\n",
      "/home/idrassa/anaconda3/envs/Porta1/lib/python3.10/site-packages/pytorch_lightning/trainer/connectors/data_connector.py:432: PossibleUserWarning: The dataloader, train_dataloader, does not have many workers which may be a bottleneck. Consider increasing the value of the `num_workers` argument` (try 8 which is the number of cpus on this machine) in the `DataLoader` init to improve performance.\n",
      "  rank_zero_warn(\n",
      "/home/idrassa/anaconda3/envs/Porta1/lib/python3.10/site-packages/pytorch_lightning/loops/fit_loop.py:280: PossibleUserWarning: The number of training batches (20) is smaller than the logging interval Trainer(log_every_n_steps=50). Set a lower value for log_every_n_steps if you want to see logs for the training epoch.\n",
      "  rank_zero_warn(\n"
     ]
    },
    {
     "name": "stdout",
     "output_type": "stream",
     "text": [
      "Epoch 119: 100%|██████████| 20/20 [00:00<00:00, 53.82it/s, v_num=0, train_loss=1.570, train_acc=0.800, valid_loss=1.650, valid_acc=0.724] "
     ]
    },
    {
     "name": "stderr",
     "output_type": "stream",
     "text": [
      "`Trainer.fit` stopped: `max_epochs=120` reached.\n"
     ]
    },
    {
     "name": "stdout",
     "output_type": "stream",
     "text": [
      "Epoch 119: 100%|██████████| 20/20 [00:00<00:00, 53.14it/s, v_num=0, train_loss=1.570, train_acc=0.800, valid_loss=1.650, valid_acc=0.724]\n"
     ]
    },
    {
     "name": "stderr",
     "output_type": "stream",
     "text": [
      "/home/idrassa/anaconda3/envs/Porta1/lib/python3.10/site-packages/pytorch_lightning/trainer/connectors/data_connector.py:480: PossibleUserWarning: Your `test_dataloader`'s sampler has shuffling enabled, it is strongly recommended that you turn shuffling off for val/test dataloaders.\n",
      "  rank_zero_warn(\n",
      "/home/idrassa/anaconda3/envs/Porta1/lib/python3.10/site-packages/pytorch_lightning/trainer/connectors/data_connector.py:432: PossibleUserWarning: The dataloader, test_dataloader, does not have many workers which may be a bottleneck. Consider increasing the value of the `num_workers` argument` (try 8 which is the number of cpus on this machine) in the `DataLoader` init to improve performance.\n",
      "  rank_zero_warn(\n"
     ]
    },
    {
     "name": "stdout",
     "output_type": "stream",
     "text": [
      "Testing DataLoader 0: 100%|██████████| 6/6 [00:00<00:00, 276.56it/s]\n",
      "────────────────────────────────────────────────────────────────────────────────────────────────────────────────────────\n",
      "       Test metric             DataLoader 0\n",
      "────────────────────────────────────────────────────────────────────────────────────────────────────────────────────────\n",
      "        test_acc            0.6736842105263158\n",
      "        test_loss           1.6940360069274902\n",
      "────────────────────────────────────────────────────────────────────────────────────────────────────────────────────────\n"
     ]
    },
    {
     "data": {
      "text/plain": [
       "[{'test_loss': 1.6940360069274902, 'test_acc': 0.6736842105263158}]"
      ]
     },
     "execution_count": 35,
     "metadata": {},
     "output_type": "execute_result"
    }
   ],
   "source": [
    "epochs = 120\n",
    "model = MLP(2, 100, 60, 30, 9)\n",
    "\n",
    "\"\"\"logger = TensorBoardLogger(\n",
    "    save_dir=\".\",\n",
    "    name=\"lightning_logs\",\n",
    ")\"\"\"\n",
    "\n",
    "\n",
    "checkpoint_callback = ModelCheckpoint(\n",
    "    monitor=\"valid_acc\", mode=\"max\"\n",
    ")\n",
    "\n",
    "trainer = pl.Trainer(\n",
    "    max_epochs=epochs,\n",
    "    accelerator='cpu',\n",
    "    devices=1,\n",
    "    sync_batchnorm=True,\n",
    "    callbacks=[checkpoint_callback],\n",
    ")\n",
    "trainer.fit(model, train_loader, val_loader)\n",
    "\n",
    "trainer.test(model, dataloaders = test_loader)"
   ]
  },
  {
   "cell_type": "markdown",
   "id": "b082de36",
   "metadata": {},
   "source": [
    "### RNN (Recurrent Neural Network)"
   ]
  },
  {
   "cell_type": "code",
   "execution_count": 36,
   "id": "ea9b17b9",
   "metadata": {},
   "outputs": [],
   "source": [
    "from torch.utils.data import TensorDataset\n",
    "\n",
    "# Convert data to PyTorch tensors\n",
    "X_train_tensor = torch.tensor(X2_train, dtype=torch.float32)\n",
    "y_train_tensor = torch.tensor(y2, dtype=torch.long)\n",
    "X_val_tensor = torch.tensor(X_valid, dtype=torch.float32)\n",
    "y_val_tensor = torch.tensor(y_valid, dtype=torch.long)\n",
    "X_test_tensor = torch.tensor(X_test, dtype=torch.float32)\n",
    "y_test_tensor = torch.tensor(y_test, dtype=torch.long)\n",
    "\n",
    "\n",
    "# Create DataLoader\n",
    "train_dataset = torch.utils.data.TensorDataset(X_train_tensor, y_train_tensor)\n",
    "train_loader2 = torch.utils.data.DataLoader(train_dataset, batch_size=32, shuffle=True)\n",
    "\n",
    "val_dataset = torch.utils.data.TensorDataset(X_val_tensor, y_val_tensor)\n",
    "val_loader2 = torch.utils.data.DataLoader(val_dataset, batch_size=32, shuffle=True)\n",
    "\n",
    "test_dataset = torch.utils.data.TensorDataset(X_test_tensor, y_test_tensor)\n",
    "test_loader2 = torch.utils.data.DataLoader(test_dataset, batch_size=32, shuffle=True)"
   ]
  },
  {
   "cell_type": "code",
   "execution_count": 37,
   "id": "8a47208c",
   "metadata": {},
   "outputs": [
    {
     "data": {
      "text/plain": [
       "tensor([[ 0.0013, -0.8918],\n",
       "        [ 0.6172,  0.4148],\n",
       "        [-0.3623, -0.6456],\n",
       "        ...,\n",
       "        [-0.8923, -0.9863],\n",
       "        [-1.0546, -1.0079],\n",
       "        [-0.9762, -1.0133]])"
      ]
     },
     "execution_count": 37,
     "metadata": {},
     "output_type": "execute_result"
    }
   ],
   "source": [
    "X_train_tensor"
   ]
  },
  {
   "cell_type": "code",
   "execution_count": 38,
   "id": "4631314d",
   "metadata": {},
   "outputs": [
    {
     "name": "stderr",
     "output_type": "stream",
     "text": [
      "GPU available: False, used: False\n",
      "TPU available: False, using: 0 TPU cores\n",
      "IPU available: False, using: 0 IPUs\n"
     ]
    },
    {
     "name": "stderr",
     "output_type": "stream",
     "text": [
      "HPU available: False, using: 0 HPUs\n",
      "\n",
      "  | Name    | Type    | Params\n",
      "------------------------------------\n",
      "0 | rnn     | RNN     | 672   \n",
      "1 | fc      | Linear  | 225   \n",
      "2 | softmax | Softmax | 0     \n",
      "------------------------------------\n",
      "897       Trainable params\n",
      "0         Non-trainable params\n",
      "897       Total params\n",
      "0.004     Total estimated model params size (MB)\n"
     ]
    },
    {
     "name": "stdout",
     "output_type": "stream",
     "text": [
      "Epoch 99: 100%|██████████| 20/20 [00:00<00:00, 38.98it/s, v_num=1, train_loss=1.400, train_acc=1.000, Vald_loss=1.660, Vald_acc=0.721] "
     ]
    },
    {
     "name": "stderr",
     "output_type": "stream",
     "text": [
      "`Trainer.fit` stopped: `max_epochs=100` reached.\n"
     ]
    },
    {
     "name": "stdout",
     "output_type": "stream",
     "text": [
      "Epoch 99: 100%|██████████| 20/20 [00:00<00:00, 37.97it/s, v_num=1, train_loss=1.400, train_acc=1.000, Vald_loss=1.660, Vald_acc=0.721]\n",
      "Testing DataLoader 0: 100%|██████████| 6/6 [00:00<00:00, 212.85it/s]\n",
      "────────────────────────────────────────────────────────────────────────────────────────────────────────────────────────\n",
      "       Test metric             DataLoader 0\n",
      "────────────────────────────────────────────────────────────────────────────────────────────────────────────────────────\n",
      "        Test_acc            0.6684210300445557\n",
      "        Test_loss           1.7019164562225342\n",
      "────────────────────────────────────────────────────────────────────────────────────────────────────────────────────────\n"
     ]
    },
    {
     "data": {
      "text/plain": [
       "[{'Test_loss': 1.7019164562225342, 'Test_acc': 0.6684210300445557}]"
      ]
     },
     "execution_count": 38,
     "metadata": {},
     "output_type": "execute_result"
    }
   ],
   "source": [
    "import torch.optim as optim\n",
    "\n",
    "# Hyperparameters\n",
    "input_size = 2\n",
    "hidden_size = 24\n",
    "num_classes = 9\n",
    "num_layers = 5\n",
    "batch_size = 32\n",
    "learning_rate = 0.001\n",
    "num_epochs = 100\n",
    "\n",
    "\n",
    "# Create a custom RNNModule\n",
    "class RNNClassifier(pl.LightningModule):\n",
    "    def __init__(self, input_size, hidden_size, num_classes):\n",
    "        super(RNNClassifier, self).__init__()\n",
    "        self.rnn = nn.RNN(input_size, hidden_size, batch_first=True)\n",
    "        self.fc = nn.Linear(hidden_size, num_classes)\n",
    "        self.softmax = nn.Softmax(dim=1)\n",
    "\n",
    "    def forward(self, x):\n",
    "        out, _ = self.rnn(x)\n",
    "        out = self.fc(out)\n",
    "        out = self.softmax(out)\n",
    "        return out\n",
    "    \n",
    "    def training_step(self, batch, batch_idx):\n",
    "        inputs, targets = batch\n",
    "        outputs = self(inputs)\n",
    "        loss = nn.CrossEntropyLoss()(outputs, targets)\n",
    "        _, predicted = outputs.max(dim=1)\n",
    "        acc = (predicted == targets).float().mean()\n",
    "        self.log('train_loss', loss, prog_bar=True)\n",
    "        self.log(\"train_acc\", acc, prog_bar=True)\n",
    "        return loss\n",
    "    \n",
    "    def validation_step(self, batch, batch_idx):\n",
    "        inputs, targets = batch\n",
    "        outputs = self(inputs)\n",
    "        loss = nn.CrossEntropyLoss()(outputs, targets)\n",
    "        _, predicted = outputs.max(dim=1)\n",
    "        acc = (predicted == targets).float().mean()\n",
    "        self.log('Vald_loss', loss, prog_bar=True)\n",
    "        self.log(\"Vald_acc\", acc, prog_bar=True)\n",
    "        return loss\n",
    "    \n",
    "    def test_step(self, batch, batch_idx):\n",
    "        inputs, targets = batch\n",
    "        outputs = self(inputs)\n",
    "        loss = nn.CrossEntropyLoss()(outputs, targets)\n",
    "        _, predicted = outputs.max(dim=1)\n",
    "        acc = (predicted == targets).float().mean()\n",
    "        self.log('Test_loss', loss, prog_bar=True)\n",
    "        self.log(\"Test_acc\", acc, prog_bar=True)\n",
    "        return loss\n",
    "    \n",
    "    def configure_optimizers(self):\n",
    "        return optim.Adam(self.parameters(), lr=learning_rate)\n",
    "\n",
    "# Create the RNN model using the LightningModule\n",
    "model2 = RNNClassifier(input_size, hidden_size, num_classes)\n",
    "\n",
    "# Create a Trainer\n",
    "trainer2 = pl.Trainer(max_epochs=num_epochs, accelerator='cpu')\n",
    "\n",
    "# Train and test the model\n",
    "trainer2.fit(model2, train_loader2, val_loader2)\n",
    "\n",
    "trainer2.test(model2, dataloaders = test_loader2)"
   ]
  },
  {
   "cell_type": "code",
   "execution_count": 39,
   "id": "06c8cc70",
   "metadata": {},
   "outputs": [],
   "source": [
    "#Save our model\n",
    "\n",
    "torch.save(model2, \"model2.pt\")"
   ]
  },
  {
   "cell_type": "markdown",
   "id": "e415f7a5",
   "metadata": {},
   "source": [
    "## LSTM"
   ]
  },
  {
   "cell_type": "code",
   "execution_count": 40,
   "id": "191adcad",
   "metadata": {},
   "outputs": [
    {
     "name": "stderr",
     "output_type": "stream",
     "text": [
      "GPU available: False, used: False\n",
      "TPU available: False, using: 0 TPU cores\n",
      "IPU available: False, using: 0 IPUs\n",
      "HPU available: False, using: 0 HPUs\n",
      "\n",
      "  | Name    | Type    | Params\n",
      "------------------------------------\n",
      "0 | lstm    | LSTM    | 2.7 K \n",
      "1 | fc      | Linear  | 225   \n",
      "2 | softmax | Softmax | 0     \n",
      "------------------------------------\n",
      "2.9 K     Trainable params\n",
      "0         Non-trainable params\n",
      "2.9 K     Total params\n",
      "0.012     Total estimated model params size (MB)\n"
     ]
    },
    {
     "name": "stdout",
     "output_type": "stream",
     "text": [
      "Epoch 0:  10%|█         | 2/20 [00:00<00:00, 59.30it/s, v_num=2, train_loss=2.200, train_acc=0.0312]"
     ]
    },
    {
     "name": "stdout",
     "output_type": "stream",
     "text": [
      "Epoch 99: 100%|██████████| 20/20 [00:00<00:00, 41.50it/s, v_num=2, train_loss=1.580, train_acc=0.800, Vald_loss=1.670, Vald_acc=0.719] "
     ]
    },
    {
     "name": "stderr",
     "output_type": "stream",
     "text": [
      "`Trainer.fit` stopped: `max_epochs=100` reached.\n"
     ]
    },
    {
     "name": "stdout",
     "output_type": "stream",
     "text": [
      "Epoch 99: 100%|██████████| 20/20 [00:00<00:00, 40.80it/s, v_num=2, train_loss=1.580, train_acc=0.800, Vald_loss=1.670, Vald_acc=0.719]\n",
      "Testing DataLoader 0: 100%|██████████| 6/6 [00:00<00:00, 101.58it/s]\n",
      "────────────────────────────────────────────────────────────────────────────────────────────────────────────────────────\n",
      "       Test metric             DataLoader 0\n",
      "────────────────────────────────────────────────────────────────────────────────────────────────────────────────────────\n",
      "        Test_acc            0.6736842393875122\n",
      "        Test_loss           1.6976712942123413\n",
      "────────────────────────────────────────────────────────────────────────────────────────────────────────────────────────\n"
     ]
    },
    {
     "data": {
      "text/plain": [
       "[{'Test_loss': 1.6976712942123413, 'Test_acc': 0.6736842393875122}]"
      ]
     },
     "execution_count": 40,
     "metadata": {},
     "output_type": "execute_result"
    }
   ],
   "source": [
    "import torch.optim as optim\n",
    "\n",
    "# Hyperparameters\n",
    "input_size = 2\n",
    "hidden_size = 24\n",
    "num_classes = 9\n",
    "num_layers = 1\n",
    "batch_size = 32\n",
    "learning_rate = 0.001\n",
    "num_epochs = 100\n",
    "\n",
    "\n",
    "# Create a custom RNNModule\n",
    "class LSTMClassifier(pl.LightningModule):\n",
    "    def __init__(self, input_size, hidden_size, num_layers, num_classes):\n",
    "        super(LSTMClassifier, self).__init__()\n",
    "        self.lstm  = nn.LSTM(input_size, hidden_size, num_layers, batch_first=True)\n",
    "        self.fc = nn.Linear(hidden_size, num_classes)\n",
    "        self.softmax = nn.Softmax(dim=1)\n",
    "\n",
    "    def forward(self, x):\n",
    "        out, _ = self.lstm(x)\n",
    "        out = self.fc(out)\n",
    "        out = self.softmax(out)\n",
    "        return out\n",
    "    \n",
    "    def training_step(self, batch, batch_idx):\n",
    "        inputs, targets = batch\n",
    "        outputs = self(inputs)\n",
    "        loss = nn.CrossEntropyLoss()(outputs, targets)\n",
    "        _, predicted = outputs.max(dim=1)\n",
    "        acc = (predicted == targets).float().mean()\n",
    "        self.log('train_loss', loss, prog_bar=True)\n",
    "        self.log(\"train_acc\", acc, prog_bar=True)\n",
    "        return loss\n",
    "    \n",
    "    def validation_step(self, batch, batch_idx):\n",
    "        inputs, targets = batch\n",
    "        outputs = self(inputs)\n",
    "        loss = nn.CrossEntropyLoss()(outputs, targets)\n",
    "        _, predicted = outputs.max(dim=1)\n",
    "        acc = (predicted == targets).float().mean()\n",
    "        self.log('Vald_loss', loss, prog_bar=True)\n",
    "        self.log(\"Vald_acc\", acc, prog_bar=True)\n",
    "        return loss\n",
    "    \n",
    "    def test_step(self, batch, batch_idx):\n",
    "        inputs, targets = batch\n",
    "        outputs = self(inputs)\n",
    "        loss = nn.CrossEntropyLoss()(outputs, targets)\n",
    "        _, predicted = outputs.max(dim=1)\n",
    "        acc = (predicted == targets).float().mean()\n",
    "        self.log('Test_loss', loss, prog_bar=True)\n",
    "        self.log(\"Test_acc\", acc, prog_bar=True)\n",
    "        return loss\n",
    "    \n",
    "    def configure_optimizers(self):\n",
    "        return optim.Adam(self.parameters(), lr=learning_rate)\n",
    "\n",
    "# Create the RNN model using the LightningModule\n",
    "model3 = LSTMClassifier(input_size, hidden_size, num_layers, num_classes)\n",
    "\n",
    "# Create a Trainer\n",
    "trainer3 = pl.Trainer(max_epochs=num_epochs, accelerator='cpu')\n",
    "\n",
    "# Train and test the model\n",
    "trainer3.fit(model3, train_loader2, val_loader2)\n",
    "\n",
    "trainer3.test(model3, dataloaders = test_loader2)"
   ]
  },
  {
   "cell_type": "code",
   "execution_count": 43,
   "id": "1e4fda23",
   "metadata": {},
   "outputs": [],
   "source": [
    "#Save our model\n",
    "\n",
    "torch.save(model3, \"model3.pt\")"
   ]
  },
  {
   "cell_type": "markdown",
   "id": "f580123f",
   "metadata": {},
   "source": [
    "##  Recreating the game"
   ]
  },
  {
   "cell_type": "code",
   "execution_count": 41,
   "id": "64edbd86",
   "metadata": {},
   "outputs": [
    {
     "name": "stdout",
     "output_type": "stream",
     "text": [
      "[5, 8, 8, 8, 5, 8, 5, 5, 8, 5, 8, 8, 8, 8, 5, 8, 8, 5, 5, 8, 8, 5, 5, 8, 8, 5, 5, 8, 8, 8, 5, 5, 8, 8, 5, 5, 5, 5, 8, 8, 5, 8, 8, 5, 5, 5, 5, 8, 8, 8, 5, 5, 5, 5, 8, 5, 5, 8, 5, 5, 5, 8, 8, 5, 8, 5, 5, 5, 5, 5, 5, 5, 5, 8, 8, 5, 8, 8, 5, 5, 8, 8, 8, 5, 8, 5, 5, 5, 8, 8, 8, 5, 8, 8, 5, 8, 8, 8, 8, 5, 8, 8, 5, 8, 5, 8, 8, 5, 5, 8, 8, 5, 8, 8, 8, 8, 5, 8, 5, 5, 8, 8, 8, 5, 8, 5, 5, 8, 8, 5, 8, 8, 8, 8, 5, 5, 5, 5, 8, 8, 8, 8, 5, 5, 5, 8, 8, 8, 8, 5, 8, 5, 8, 5, 8, 8, 5, 5, 8, 8, 5, 5, 5, 5, 8, 5, 5, 8, 8, 8, 8, 8, 5, 5, 8, 8, 8, 8, 8, 8, 5, 5, 5, 8, 5, 5, 8, 5, 8, 5]\n"
     ]
    }
   ],
   "source": [
    "# Make predictions using the model\n",
    "with torch.no_grad():\n",
    "    model2.eval()  # Set the model to evaluation mode\n",
    "    predictions = model2(X_test_tensor)\n",
    "    _, predicted_classes = predictions.max(dim=1)  # Get predicted classes\n",
    "\n",
    "# Convert predictions to a DataFrame\n",
    "\"\"\"data = {'Input': input_list, 'Predicted_Class': predicted_classes.tolist()}\n",
    "predictions_df = pd.DataFrame(data)\"\"\"\n",
    "\n",
    "print(predicted_classes.tolist())"
   ]
  },
  {
   "cell_type": "code",
   "execution_count": 42,
   "id": "3faa1304",
   "metadata": {},
   "outputs": [
    {
     "name": "stdout",
     "output_type": "stream",
     "text": [
      "['run' 'walk' 'walk' 'walk' 'run' 'walk' 'run' 'run' 'walk' 'run' 'walk'\n",
      " 'walk' 'walk' 'walk' 'run' 'walk' 'walk' 'run' 'run' 'walk' 'walk' 'run'\n",
      " 'run' 'walk' 'walk' 'run' 'run' 'walk' 'walk' 'walk' 'run' 'run' 'walk'\n",
      " 'walk' 'run' 'run' 'run' 'run' 'walk' 'walk' 'run' 'walk' 'walk' 'run'\n",
      " 'run' 'run' 'run' 'walk' 'walk' 'walk' 'run' 'run' 'run' 'run' 'walk'\n",
      " 'run' 'run' 'walk' 'run' 'run' 'run' 'walk' 'walk' 'run' 'walk' 'run'\n",
      " 'run' 'run' 'run' 'run' 'run' 'run' 'run' 'walk' 'walk' 'run' 'walk'\n",
      " 'walk' 'run' 'run' 'walk' 'walk' 'walk' 'run' 'walk' 'run' 'run' 'run'\n",
      " 'walk' 'walk' 'walk' 'run' 'walk' 'walk' 'run' 'walk' 'walk' 'walk'\n",
      " 'walk' 'run' 'walk' 'walk' 'run' 'walk' 'run' 'walk' 'walk' 'run' 'run'\n",
      " 'walk' 'walk' 'run' 'walk' 'walk' 'walk' 'walk' 'run' 'walk' 'run' 'run'\n",
      " 'walk' 'walk' 'walk' 'run' 'walk' 'run' 'run' 'walk' 'walk' 'run' 'walk'\n",
      " 'walk' 'walk' 'walk' 'run' 'run' 'run' 'run' 'walk' 'walk' 'walk' 'walk'\n",
      " 'run' 'run' 'run' 'walk' 'walk' 'walk' 'walk' 'run' 'walk' 'run' 'walk'\n",
      " 'run' 'walk' 'walk' 'run' 'run' 'walk' 'walk' 'run' 'run' 'run' 'run'\n",
      " 'walk' 'run' 'run' 'walk' 'walk' 'walk' 'walk' 'walk' 'run' 'run' 'walk'\n",
      " 'walk' 'walk' 'walk' 'walk' 'walk' 'run' 'run' 'run' 'walk' 'run' 'run'\n",
      " 'walk' 'run' 'walk' 'run']\n"
     ]
    }
   ],
   "source": [
    "# Use inverse_transform to get the original label names\n",
    "original_labels = label_encoder.inverse_transform(predicted_classes.tolist())\n",
    "\n",
    "print(original_labels) "
   ]
  }
 ],
 "metadata": {
  "kernelspec": {
   "display_name": "Python 3 (ipykernel)",
   "language": "python",
   "name": "python3"
  },
  "language_info": {
   "codemirror_mode": {
    "name": "ipython",
    "version": 3
   },
   "file_extension": ".py",
   "mimetype": "text/x-python",
   "name": "python",
   "nbconvert_exporter": "python",
   "pygments_lexer": "ipython3",
   "version": "3.10.11"
  }
 },
 "nbformat": 4,
 "nbformat_minor": 5
}
